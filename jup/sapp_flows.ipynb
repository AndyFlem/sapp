{
 "cells": [
  {
   "cell_type": "code",
   "execution_count": 1,
   "metadata": {},
   "outputs": [],
   "source": [
    "import numpy as np\n",
    "import pandas as pd\n",
    "import datetime\n",
    "import math\n",
    "from os import listdir\n",
    "from os.path import isfile, join\n",
    "import json"
   ]
  },
  {
   "cell_type": "code",
   "execution_count": 20,
   "metadata": {},
   "outputs": [],
   "source": [
    "out='../output/'\n",
    "inb='../input/flows/'\n",
    "pref='fpw'\n",
    "inp = inb + pref + '/'"
   ]
  },
  {
   "cell_type": "code",
   "execution_count": null,
   "metadata": {},
   "outputs": [],
   "source": [
    "dat=pd.DataFrame(columns=['date','flow','from','hour','to'])\n",
    "onlyfiles = [f for f in listdir(inp ) if isfile(join(inp, f))]\n",
    "for f in onlyfiles:\n",
    "    if (f.split('_')[0]==pref):\n",
    "        #print(f)\n",
    "        with open(join(inp, f), \"r\") as read_file:\n",
    "            data = pd.DataFrame(json.load(read_file))\n",
    "            dat=pd.concat([dat,data])\n",
    "\n",
    "dat['flow']=dat['flow'].astype(int)\n",
    "dat"
   ]
  },
  {
   "cell_type": "code",
   "execution_count": null,
   "metadata": {},
   "outputs": [],
   "source": [
    "dam = pd.read_csv(out + pref + '_hourly.csv')\n",
    "dam=dam.set_index([pd.DatetimeIndex(dam['date']),'hour'])\n",
    "dam=dam.drop(['date'],1)\n",
    "dam"
   ]
  },
  {
   "cell_type": "code",
   "execution_count": null,
   "metadata": {},
   "outputs": [],
   "source": [
    "flow=dat\n",
    "#flow['date']=pd.to_datetime(flow['flowdate'],format=\"%d/%m/%Y\") #\"%Y-%m-%d\")#\"%d/%m/%Y\")\n",
    "#flow=flow.drop(['flowdate','flowid','market'],axis=1)\n",
    "\n",
    "flow=flow.set_index([pd.DatetimeIndex(flow['date'])])\n",
    "flow['year']=flow.index.year\n",
    "flow['month']=flow.index.month\n",
    "flow['day']=flow.index.day\n",
    "flow['day_of_week']=flow.index.dayofweek\n",
    "\n",
    "flow=flow.set_index([pd.DatetimeIndex(flow['date']),'hour'])\n",
    "flow['price']=dam['price']\n",
    "flow['value']=flow['price']*flow['flow']\n",
    "flow=flow.drop(['date'],axis=1)\n",
    "flow=flow.dropna(0)\n",
    "flow=flow.reset_index()\n",
    "\n",
    "flow"
   ]
  },
  {
   "cell_type": "code",
   "execution_count": null,
   "metadata": {},
   "outputs": [],
   "source": [
    "f_to=flow[['date','hour','flow','value','price','to','year','month','day','day_of_week']].rename(columns={'to': 'node'})\n",
    "f_from=flow[['date','hour','flow','value','price','from','year','month','day','day_of_week']].rename(columns={'from': 'node'})\n",
    "f_from['flow']=-f_from['flow']\n",
    "f_from['value']=-f_from['value']\n",
    "\n",
    "flows=pd.concat([f_to, f_from])\n",
    "\n",
    "flows"
   ]
  },
  {
   "cell_type": "code",
   "execution_count": null,
   "metadata": {},
   "outputs": [],
   "source": [
    "flows.loc[flows['node']=='ZIMA','node']='ZIM'\n",
    "flows.loc[flows['node']=='MOZN_EDM','node']='MOZ'\n",
    "flows.loc[flows['node']=='MOZN_HCB','node']='HCB'\n",
    "flows.loc[flows['node']=='MOZS','node']='MOZ'\n",
    "flows.loc[flows['node']=='RSAS','node']='RSA'\n",
    "flows.loc[flows['node']=='RSAN','node']='RSA'"
   ]
  },
  {
   "cell_type": "code",
   "execution_count": null,
   "metadata": {},
   "outputs": [],
   "source": [
    "flows=flows.reset_index().groupby(['date','hour','node','year','month','day','day_of_week']).sum().reset_index()\n",
    "flows=flows.loc[flows['flow']!=0]\n",
    "flows=flows.set_index(['date','hour'])\n",
    "flows['cat']=dam['cat']\n",
    "flows.reset_index()\n",
    "flows"
   ]
  },
  {
   "cell_type": "code",
   "execution_count": null,
   "metadata": {},
   "outputs": [],
   "source": [
    "flowsb=flows.copy()\n",
    "flowsb.loc[flowsb['flow']<0,'side']='supply'\n",
    "flowsb.loc[flowsb['flow']>0,'side']='consume'\n",
    "\n",
    "\n",
    "flow_monthly_cat=flowsb.groupby(['year','month', 'node','cat','side']).sum()\n",
    "flow_monthly_cat.rename(columns={'flow': 'flow_sum'}, inplace=True)\n",
    "flow_monthly_cat['hour_count']=flowsb.groupby(['year','month', 'node','cat','side']).count()['flow']\n",
    "flow_monthly_cat['price_weight_mean'] = flow_monthly_cat['value'] / flow_monthly_cat['flow_sum']\n",
    "flow_monthly_cat['price_mean']=flowsb.groupby(['year','month', 'node','cat','side']).mean()['price']\n",
    "flow_monthly_cat=flow_monthly_cat.drop(['day','day_of_week','index','price'],axis=1)\n",
    "flow_monthly_cat=flow_monthly_cat.loc[flow_monthly_cat['flow_sum']!=0]\n",
    "flow_monthly_cat['power']=flow_monthly_cat['flow_sum']/flow_monthly_cat['hour_count']\n",
    "flow_monthly_cat"
   ]
  },
  {
   "cell_type": "code",
   "execution_count": null,
   "metadata": {},
   "outputs": [],
   "source": [
    "flow_monthly_cat.to_csv(out + pref + '_flow_monthly_cat.csv')"
   ]
  },
  {
   "cell_type": "code",
   "execution_count": null,
   "metadata": {},
   "outputs": [],
   "source": []
  }
 ],
 "metadata": {
  "kernelspec": {
   "display_name": "Python 3",
   "language": "python",
   "name": "python3"
  },
  "language_info": {
   "codemirror_mode": {
    "name": "ipython",
    "version": 3
   },
   "file_extension": ".py",
   "mimetype": "text/x-python",
   "name": "python",
   "nbconvert_exporter": "python",
   "pygments_lexer": "ipython3",
   "version": "3.8.1"
  }
 },
 "nbformat": 4,
 "nbformat_minor": 4
}
