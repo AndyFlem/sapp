{
 "cells": [
  {
   "cell_type": "code",
   "execution_count": 2,
   "metadata": {},
   "outputs": [],
   "source": [
    "import numpy as np\n",
    "import pandas as pd\n",
    "import datetime\n",
    "from time import time\n",
    "import math\n",
    "from os import listdir\n",
    "from os.path import isfile, join\n",
    "import json\n",
    "import matplotlib.pyplot as plt\n",
    "from statsmodels.graphics.tsaplots import plot_acf, plot_pacf\n",
    "from statsmodels.tsa.arima.model import ARIMA\n",
    "\n",
    "from statsmodels.tsa.stattools import adfuller"
   ]
  },
  {
   "cell_type": "code",
   "execution_count": 3,
   "metadata": {},
   "outputs": [],
   "source": [
    "monthly=pd.read_csv('../output/dam_monthly.csv')"
   ]
  },
  {
   "cell_type": "code",
   "execution_count": 4,
   "metadata": {},
   "outputs": [
    {
     "data": {
      "text/html": [
       "<div>\n",
       "<style scoped>\n",
       "    .dataframe tbody tr th:only-of-type {\n",
       "        vertical-align: middle;\n",
       "    }\n",
       "\n",
       "    .dataframe tbody tr th {\n",
       "        vertical-align: top;\n",
       "    }\n",
       "\n",
       "    .dataframe thead th {\n",
       "        text-align: right;\n",
       "    }\n",
       "</style>\n",
       "<table border=\"1\" class=\"dataframe\">\n",
       "  <thead>\n",
       "    <tr style=\"text-align: right;\">\n",
       "      <th></th>\n",
       "      <th>year</th>\n",
       "      <th>month</th>\n",
       "      <th>volume_mean</th>\n",
       "      <th>value_mean</th>\n",
       "      <th>price_max</th>\n",
       "      <th>price_min</th>\n",
       "      <th>price_mean</th>\n",
       "      <th>power_max</th>\n",
       "      <th>power_min</th>\n",
       "      <th>power_mean</th>\n",
       "      <th>...</th>\n",
       "      <th>days</th>\n",
       "      <th>off_price_diff</th>\n",
       "      <th>morning_price_diff</th>\n",
       "      <th>standard_price_diff</th>\n",
       "      <th>evening_price_diff</th>\n",
       "      <th>off_price_log_diff</th>\n",
       "      <th>morning_price_log_diff</th>\n",
       "      <th>standard_price_log_diff</th>\n",
       "      <th>evening_price_log_diff</th>\n",
       "      <th>day</th>\n",
       "    </tr>\n",
       "    <tr>\n",
       "      <th>date</th>\n",
       "      <th></th>\n",
       "      <th></th>\n",
       "      <th></th>\n",
       "      <th></th>\n",
       "      <th></th>\n",
       "      <th></th>\n",
       "      <th></th>\n",
       "      <th></th>\n",
       "      <th></th>\n",
       "      <th></th>\n",
       "      <th></th>\n",
       "      <th></th>\n",
       "      <th></th>\n",
       "      <th></th>\n",
       "      <th></th>\n",
       "      <th></th>\n",
       "      <th></th>\n",
       "      <th></th>\n",
       "      <th></th>\n",
       "      <th></th>\n",
       "      <th></th>\n",
       "    </tr>\n",
       "  </thead>\n",
       "  <tbody>\n",
       "    <tr>\n",
       "      <th>2016-01-01</th>\n",
       "      <td>2016</td>\n",
       "      <td>1</td>\n",
       "      <td>3785.351613</td>\n",
       "      <td>211930.289323</td>\n",
       "      <td>106.684000</td>\n",
       "      <td>45.982500</td>\n",
       "      <td>82.458788</td>\n",
       "      <td>362.651613</td>\n",
       "      <td>17.606452</td>\n",
       "      <td>159.959113</td>\n",
       "      <td>...</td>\n",
       "      <td>31</td>\n",
       "      <td>NaN</td>\n",
       "      <td>NaN</td>\n",
       "      <td>NaN</td>\n",
       "      <td>NaN</td>\n",
       "      <td>NaN</td>\n",
       "      <td>NaN</td>\n",
       "      <td>NaN</td>\n",
       "      <td>NaN</td>\n",
       "      <td>1</td>\n",
       "    </tr>\n",
       "    <tr>\n",
       "      <th>2016-02-01</th>\n",
       "      <td>2016</td>\n",
       "      <td>2</td>\n",
       "      <td>3871.755172</td>\n",
       "      <td>261082.316897</td>\n",
       "      <td>123.798500</td>\n",
       "      <td>75.023333</td>\n",
       "      <td>91.797506</td>\n",
       "      <td>367.334483</td>\n",
       "      <td>23.231034</td>\n",
       "      <td>161.993793</td>\n",
       "      <td>...</td>\n",
       "      <td>29</td>\n",
       "      <td>4.414413</td>\n",
       "      <td>16.240794</td>\n",
       "      <td>10.682915</td>\n",
       "      <td>-3.517619</td>\n",
       "      <td>0.034835</td>\n",
       "      <td>0.059036</td>\n",
       "      <td>0.043657</td>\n",
       "      <td>-0.010675</td>\n",
       "      <td>1</td>\n",
       "    </tr>\n",
       "    <tr>\n",
       "      <th>2016-03-01</th>\n",
       "      <td>2016</td>\n",
       "      <td>3</td>\n",
       "      <td>2904.254839</td>\n",
       "      <td>187713.287290</td>\n",
       "      <td>108.651500</td>\n",
       "      <td>60.115833</td>\n",
       "      <td>88.953989</td>\n",
       "      <td>285.867742</td>\n",
       "      <td>18.232258</td>\n",
       "      <td>122.263199</td>\n",
       "      <td>...</td>\n",
       "      <td>31</td>\n",
       "      <td>-1.813562</td>\n",
       "      <td>-4.502277</td>\n",
       "      <td>-3.638148</td>\n",
       "      <td>-9.457640</td>\n",
       "      <td>-0.013975</td>\n",
       "      <td>-0.015578</td>\n",
       "      <td>-0.014380</td>\n",
       "      <td>-0.030073</td>\n",
       "      <td>1</td>\n",
       "    </tr>\n",
       "    <tr>\n",
       "      <th>2016-04-01</th>\n",
       "      <td>2016</td>\n",
       "      <td>4</td>\n",
       "      <td>1921.116667</td>\n",
       "      <td>118965.331100</td>\n",
       "      <td>114.641667</td>\n",
       "      <td>42.853500</td>\n",
       "      <td>85.579278</td>\n",
       "      <td>183.970000</td>\n",
       "      <td>7.236667</td>\n",
       "      <td>80.344000</td>\n",
       "      <td>...</td>\n",
       "      <td>30</td>\n",
       "      <td>-2.153111</td>\n",
       "      <td>-12.993913</td>\n",
       "      <td>-0.555251</td>\n",
       "      <td>8.748116</td>\n",
       "      <td>-0.017197</td>\n",
       "      <td>-0.048373</td>\n",
       "      <td>-0.002237</td>\n",
       "      <td>0.027888</td>\n",
       "      <td>1</td>\n",
       "    </tr>\n",
       "    <tr>\n",
       "      <th>2016-05-01</th>\n",
       "      <td>2016</td>\n",
       "      <td>5</td>\n",
       "      <td>1597.551613</td>\n",
       "      <td>89924.522194</td>\n",
       "      <td>105.676500</td>\n",
       "      <td>28.659583</td>\n",
       "      <td>79.317876</td>\n",
       "      <td>165.183871</td>\n",
       "      <td>4.661290</td>\n",
       "      <td>68.442769</td>\n",
       "      <td>...</td>\n",
       "      <td>31</td>\n",
       "      <td>-8.475135</td>\n",
       "      <td>5.083182</td>\n",
       "      <td>-4.592882</td>\n",
       "      <td>-2.635833</td>\n",
       "      <td>-0.075200</td>\n",
       "      <td>0.019570</td>\n",
       "      <td>-0.018961</td>\n",
       "      <td>-0.008216</td>\n",
       "      <td>1</td>\n",
       "    </tr>\n",
       "    <tr>\n",
       "      <th>...</th>\n",
       "      <td>...</td>\n",
       "      <td>...</td>\n",
       "      <td>...</td>\n",
       "      <td>...</td>\n",
       "      <td>...</td>\n",
       "      <td>...</td>\n",
       "      <td>...</td>\n",
       "      <td>...</td>\n",
       "      <td>...</td>\n",
       "      <td>...</td>\n",
       "      <td>...</td>\n",
       "      <td>...</td>\n",
       "      <td>...</td>\n",
       "      <td>...</td>\n",
       "      <td>...</td>\n",
       "      <td>...</td>\n",
       "      <td>...</td>\n",
       "      <td>...</td>\n",
       "      <td>...</td>\n",
       "      <td>...</td>\n",
       "      <td>...</td>\n",
       "    </tr>\n",
       "    <tr>\n",
       "      <th>2021-04-01</th>\n",
       "      <td>2021</td>\n",
       "      <td>4</td>\n",
       "      <td>2688.473333</td>\n",
       "      <td>161123.687933</td>\n",
       "      <td>110.314000</td>\n",
       "      <td>30.873750</td>\n",
       "      <td>80.865714</td>\n",
       "      <td>185.530000</td>\n",
       "      <td>40.316667</td>\n",
       "      <td>112.990667</td>\n",
       "      <td>...</td>\n",
       "      <td>30</td>\n",
       "      <td>-2.511283</td>\n",
       "      <td>50.693999</td>\n",
       "      <td>22.088650</td>\n",
       "      <td>137.054298</td>\n",
       "      <td>-0.026671</td>\n",
       "      <td>0.170330</td>\n",
       "      <td>0.132104</td>\n",
       "      <td>0.303611</td>\n",
       "      <td>1</td>\n",
       "    </tr>\n",
       "    <tr>\n",
       "      <th>2021-05-01</th>\n",
       "      <td>2021</td>\n",
       "      <td>5</td>\n",
       "      <td>2501.206452</td>\n",
       "      <td>168242.250258</td>\n",
       "      <td>113.129583</td>\n",
       "      <td>34.269167</td>\n",
       "      <td>84.021403</td>\n",
       "      <td>162.409677</td>\n",
       "      <td>48.145161</td>\n",
       "      <td>106.544812</td>\n",
       "      <td>...</td>\n",
       "      <td>31</td>\n",
       "      <td>-0.485940</td>\n",
       "      <td>-7.599747</td>\n",
       "      <td>16.211863</td>\n",
       "      <td>14.861136</td>\n",
       "      <td>-0.005356</td>\n",
       "      <td>-0.021654</td>\n",
       "      <td>0.076456</td>\n",
       "      <td>0.023062</td>\n",
       "      <td>1</td>\n",
       "    </tr>\n",
       "    <tr>\n",
       "      <th>2021-06-01</th>\n",
       "      <td>2021</td>\n",
       "      <td>6</td>\n",
       "      <td>2408.913333</td>\n",
       "      <td>258848.577167</td>\n",
       "      <td>145.522500</td>\n",
       "      <td>52.754167</td>\n",
       "      <td>121.474997</td>\n",
       "      <td>183.256667</td>\n",
       "      <td>33.226667</td>\n",
       "      <td>101.923778</td>\n",
       "      <td>...</td>\n",
       "      <td>30</td>\n",
       "      <td>21.004654</td>\n",
       "      <td>49.147475</td>\n",
       "      <td>34.930116</td>\n",
       "      <td>4.911515</td>\n",
       "      <td>0.186485</td>\n",
       "      <td>0.124052</td>\n",
       "      <td>0.129625</td>\n",
       "      <td>0.007360</td>\n",
       "      <td>1</td>\n",
       "    </tr>\n",
       "    <tr>\n",
       "      <th>2021-07-01</th>\n",
       "      <td>2021</td>\n",
       "      <td>7</td>\n",
       "      <td>3174.064516</td>\n",
       "      <td>328619.638677</td>\n",
       "      <td>148.904500</td>\n",
       "      <td>35.070000</td>\n",
       "      <td>113.573901</td>\n",
       "      <td>213.532258</td>\n",
       "      <td>59.832258</td>\n",
       "      <td>134.900081</td>\n",
       "      <td>...</td>\n",
       "      <td>31</td>\n",
       "      <td>-6.905659</td>\n",
       "      <td>-4.926364</td>\n",
       "      <td>-5.131330</td>\n",
       "      <td>-2.828030</td>\n",
       "      <td>-0.052945</td>\n",
       "      <td>-0.010953</td>\n",
       "      <td>-0.016783</td>\n",
       "      <td>-0.004223</td>\n",
       "      <td>1</td>\n",
       "    </tr>\n",
       "    <tr>\n",
       "      <th>2021-08-01</th>\n",
       "      <td>2021</td>\n",
       "      <td>8</td>\n",
       "      <td>3965.867742</td>\n",
       "      <td>377464.605516</td>\n",
       "      <td>138.765417</td>\n",
       "      <td>35.761667</td>\n",
       "      <td>106.275995</td>\n",
       "      <td>271.070968</td>\n",
       "      <td>89.264516</td>\n",
       "      <td>168.561694</td>\n",
       "      <td>...</td>\n",
       "      <td>31</td>\n",
       "      <td>-4.769304</td>\n",
       "      <td>-6.449697</td>\n",
       "      <td>-9.913372</td>\n",
       "      <td>-3.737879</td>\n",
       "      <td>-0.040741</td>\n",
       "      <td>-0.014771</td>\n",
       "      <td>-0.034385</td>\n",
       "      <td>-0.005645</td>\n",
       "      <td>1</td>\n",
       "    </tr>\n",
       "  </tbody>\n",
       "</table>\n",
       "<p>68 rows × 69 columns</p>\n",
       "</div>"
      ],
      "text/plain": [
       "            year  month  volume_mean     value_mean   price_max  price_min  \\\n",
       "date                                                                         \n",
       "2016-01-01  2016      1  3785.351613  211930.289323  106.684000  45.982500   \n",
       "2016-02-01  2016      2  3871.755172  261082.316897  123.798500  75.023333   \n",
       "2016-03-01  2016      3  2904.254839  187713.287290  108.651500  60.115833   \n",
       "2016-04-01  2016      4  1921.116667  118965.331100  114.641667  42.853500   \n",
       "2016-05-01  2016      5  1597.551613   89924.522194  105.676500  28.659583   \n",
       "...          ...    ...          ...            ...         ...        ...   \n",
       "2021-04-01  2021      4  2688.473333  161123.687933  110.314000  30.873750   \n",
       "2021-05-01  2021      5  2501.206452  168242.250258  113.129583  34.269167   \n",
       "2021-06-01  2021      6  2408.913333  258848.577167  145.522500  52.754167   \n",
       "2021-07-01  2021      7  3174.064516  328619.638677  148.904500  35.070000   \n",
       "2021-08-01  2021      8  3965.867742  377464.605516  138.765417  35.761667   \n",
       "\n",
       "            price_mean   power_max  power_min  power_mean  ...  days  \\\n",
       "date                                                       ...         \n",
       "2016-01-01   82.458788  362.651613  17.606452  159.959113  ...    31   \n",
       "2016-02-01   91.797506  367.334483  23.231034  161.993793  ...    29   \n",
       "2016-03-01   88.953989  285.867742  18.232258  122.263199  ...    31   \n",
       "2016-04-01   85.579278  183.970000   7.236667   80.344000  ...    30   \n",
       "2016-05-01   79.317876  165.183871   4.661290   68.442769  ...    31   \n",
       "...                ...         ...        ...         ...  ...   ...   \n",
       "2021-04-01   80.865714  185.530000  40.316667  112.990667  ...    30   \n",
       "2021-05-01   84.021403  162.409677  48.145161  106.544812  ...    31   \n",
       "2021-06-01  121.474997  183.256667  33.226667  101.923778  ...    30   \n",
       "2021-07-01  113.573901  213.532258  59.832258  134.900081  ...    31   \n",
       "2021-08-01  106.275995  271.070968  89.264516  168.561694  ...    31   \n",
       "\n",
       "            off_price_diff  morning_price_diff  standard_price_diff  \\\n",
       "date                                                                  \n",
       "2016-01-01             NaN                 NaN                  NaN   \n",
       "2016-02-01        4.414413           16.240794            10.682915   \n",
       "2016-03-01       -1.813562           -4.502277            -3.638148   \n",
       "2016-04-01       -2.153111          -12.993913            -0.555251   \n",
       "2016-05-01       -8.475135            5.083182            -4.592882   \n",
       "...                    ...                 ...                  ...   \n",
       "2021-04-01       -2.511283           50.693999            22.088650   \n",
       "2021-05-01       -0.485940           -7.599747            16.211863   \n",
       "2021-06-01       21.004654           49.147475            34.930116   \n",
       "2021-07-01       -6.905659           -4.926364            -5.131330   \n",
       "2021-08-01       -4.769304           -6.449697            -9.913372   \n",
       "\n",
       "            evening_price_diff  off_price_log_diff  morning_price_log_diff  \\\n",
       "date                                                                         \n",
       "2016-01-01                 NaN                 NaN                     NaN   \n",
       "2016-02-01           -3.517619            0.034835                0.059036   \n",
       "2016-03-01           -9.457640           -0.013975               -0.015578   \n",
       "2016-04-01            8.748116           -0.017197               -0.048373   \n",
       "2016-05-01           -2.635833           -0.075200                0.019570   \n",
       "...                        ...                 ...                     ...   \n",
       "2021-04-01          137.054298           -0.026671                0.170330   \n",
       "2021-05-01           14.861136           -0.005356               -0.021654   \n",
       "2021-06-01            4.911515            0.186485                0.124052   \n",
       "2021-07-01           -2.828030           -0.052945               -0.010953   \n",
       "2021-08-01           -3.737879           -0.040741               -0.014771   \n",
       "\n",
       "            standard_price_log_diff  evening_price_log_diff  day  \n",
       "date                                                              \n",
       "2016-01-01                      NaN                     NaN    1  \n",
       "2016-02-01                 0.043657               -0.010675    1  \n",
       "2016-03-01                -0.014380               -0.030073    1  \n",
       "2016-04-01                -0.002237                0.027888    1  \n",
       "2016-05-01                -0.018961               -0.008216    1  \n",
       "...                             ...                     ...  ...  \n",
       "2021-04-01                 0.132104                0.303611    1  \n",
       "2021-05-01                 0.076456                0.023062    1  \n",
       "2021-06-01                 0.129625                0.007360    1  \n",
       "2021-07-01                -0.016783               -0.004223    1  \n",
       "2021-08-01                -0.034385               -0.005645    1  \n",
       "\n",
       "[68 rows x 69 columns]"
      ]
     },
     "execution_count": 4,
     "metadata": {},
     "output_type": "execute_result"
    }
   ],
   "source": [
    "monthly['day']=1\n",
    "monthly['date']=pd.to_datetime(monthly[['year', 'month', 'day']])\n",
    "monthly=monthly.set_index('date')\n",
    "monthly"
   ]
  },
  {
   "cell_type": "code",
   "execution_count": 5,
   "metadata": {},
   "outputs": [
    {
     "data": {
      "text/plain": [
       "date\n",
       "2016-01-01    101.019750\n",
       "2016-02-01    111.702665\n",
       "2016-03-01    108.064517\n",
       "2016-04-01    107.509266\n",
       "2016-05-01    102.916384\n",
       "                 ...    \n",
       "2021-04-01     84.220435\n",
       "2021-05-01    100.432298\n",
       "2021-06-01    135.362413\n",
       "2021-07-01    130.231083\n",
       "2021-08-01    120.317712\n",
       "Freq: MS, Name: standard_price_mean, Length: 68, dtype: float64"
      ]
     },
     "execution_count": 5,
     "metadata": {},
     "output_type": "execute_result"
    }
   ],
   "source": [
    "standard = monthly['standard_price_mean']\n",
    "standard=standard.asfreq(pd.infer_freq(standard.index))\n",
    "standard"
   ]
  },
  {
   "cell_type": "code",
   "execution_count": 6,
   "metadata": {},
   "outputs": [],
   "source": [
    "def perform_adf_test(series):\n",
    "    result = adfuller(series)\n",
    "    print('ADF Statistic: %f' % result[0])\n",
    "    print('p-value: %f' % result[1])"
   ]
  },
  {
   "cell_type": "code",
   "execution_count": 7,
   "metadata": {},
   "outputs": [
    {
     "data": {
      "text/plain": [
       "[<matplotlib.lines.Line2D at 0x1d1b1281fd0>]"
      ]
     },
     "execution_count": 7,
     "metadata": {},
     "output_type": "execute_result"
    },
    {
     "data": {
      "image/png": "[encoded data removed]",
      "text/plain": [
       "<Figure size 432x288 with 1 Axes>"
      ]
     },
     "metadata": {
      "needs_background": "light"
     },
     "output_type": "display_data"
    }
   ],
   "source": [
    "plt.plot(standard)"
   ]
  },
  {
   "cell_type": "code",
   "execution_count": 8,
   "metadata": {},
   "outputs": [
    {
     "data": {
      "text/plain": [
       "[<matplotlib.lines.Line2D at 0x1d1b12f7b20>]"
      ]
     },
     "execution_count": 8,
     "metadata": {},
     "output_type": "execute_result"
    },
    {
     "data": {
      "image/png": "[encoded data removed]",
      "text/plain": [
       "<Figure size 432x288 with 1 Axes>"
      ]
     },
     "metadata": {
      "needs_background": "light"
     },
     "output_type": "display_data"
    }
   ],
   "source": [
    "plt.plot(monthly.drop(pd.to_datetime('2016-01-01'))['standard_price_diff'])"
   ]
  },
  {
   "cell_type": "code",
   "execution_count": 9,
   "metadata": {},
   "outputs": [
    {
     "name": "stdout",
     "output_type": "stream",
     "text": [
      "ADF Statistic: -2.889369\n",
      "p-value: 0.046598\n"
     ]
    }
   ],
   "source": [
    "perform_adf_test(monthly['standard_price_mean'])"
   ]
  },
  {
   "cell_type": "code",
   "execution_count": 10,
   "metadata": {},
   "outputs": [
    {
     "name": "stdout",
     "output_type": "stream",
     "text": [
      "ADF Statistic: -6.980416\n",
      "p-value: 0.000000\n"
     ]
    }
   ],
   "source": [
    "perform_adf_test(monthly.drop(pd.to_datetime('2016-01-01'))['standard_price_diff'])"
   ]
  },
  {
   "cell_type": "code",
   "execution_count": 11,
   "metadata": {},
   "outputs": [
    {
     "data": {
      "image/png": "[encoded data removed]",
      "text/plain": [
       "<Figure size 432x288 with 1 Axes>"
      ]
     },
     "metadata": {
      "needs_background": "light"
     },
     "output_type": "display_data"
    }
   ],
   "source": [
    "a=plot_pacf(monthly['standard_price_mean'], lags=13)"
   ]
  },
  {
   "cell_type": "code",
   "execution_count": 12,
   "metadata": {},
   "outputs": [
    {
     "data": {
      "image/png": "[encoded data removed]",
      "text/plain": [
       "<Figure size 432x288 with 1 Axes>"
      ]
     },
     "metadata": {
      "needs_background": "light"
     },
     "output_type": "display_data"
    }
   ],
   "source": [
    "a=plot_pacf(monthly.drop(pd.to_datetime('2016-01-01'))['standard_price_diff'], lags=13)"
   ]
  },
  {
   "cell_type": "code",
   "execution_count": null,
   "metadata": {},
   "outputs": [],
   "source": []
  },
  {
   "cell_type": "code",
   "execution_count": 13,
   "metadata": {},
   "outputs": [
    {
     "data": {
      "text/plain": [
       "date\n",
       "2020-01-01     81.577912\n",
       "2020-02-01     82.505029\n",
       "2020-03-01    104.070060\n",
       "2020-04-01     50.252907\n",
       "2020-05-01     50.073696\n",
       "2020-06-01     50.620885\n",
       "2020-07-01     55.288315\n",
       "2020-08-01     54.033346\n",
       "2020-09-01     65.703576\n",
       "2020-10-01     69.164954\n",
       "2020-11-01    132.628748\n",
       "2020-12-01     97.762054\n",
       "2021-01-01     67.313611\n",
       "2021-02-01     97.159708\n",
       "2021-03-01     62.131785\n",
       "2021-04-01     84.220435\n",
       "2021-05-01    100.432298\n",
       "2021-06-01    135.362413\n",
       "2021-07-01    130.231083\n",
       "2021-08-01    120.317712\n",
       "Freq: MS, Name: standard_price_mean, dtype: float64"
      ]
     },
     "execution_count": 13,
     "metadata": {},
     "output_type": "execute_result"
    }
   ],
   "source": [
    "train=standard[:pd.to_datetime('2019-12-31')]\n",
    "test=standard[pd.to_datetime('2020-01-01'):]\n",
    "test"
   ]
  },
  {
   "cell_type": "code",
   "execution_count": 21,
   "metadata": {},
   "outputs": [
    {
     "name": "stdout",
     "output_type": "stream",
     "text": [
      "ADF Statistic: -2.019747\n",
      "p-value: 0.277982\n"
     ]
    }
   ],
   "source": []
  },
  {
   "cell_type": "code",
   "execution_count": 22,
   "metadata": {},
   "outputs": [
    {
     "data": {
      "image/png": "[encoded data removed]",
      "text/plain": [
       "<Figure size 432x288 with 1 Axes>"
      ]
     },
     "metadata": {
      "needs_background": "light"
     },
     "output_type": "display_data"
    }
   ],
   "source": []
  },
  {
   "cell_type": "code",
   "execution_count": 23,
   "metadata": {},
   "outputs": [
    {
     "data": {
      "text/plain": [
       "[<matplotlib.lines.Line2D at 0x1d1b1575f70>]"
      ]
     },
     "execution_count": 23,
     "metadata": {},
     "output_type": "execute_result"
    },
    {
     "data": {
      "image/png": "[encoded data removed]",
      "text/plain": [
       "<Figure size 432x288 with 1 Axes>"
      ]
     },
     "metadata": {
      "needs_background": "light"
     },
     "output_type": "display_data"
    }
   ],
   "source": []
  },
  {
   "cell_type": "code",
   "execution_count": 73,
   "metadata": {},
   "outputs": [],
   "source": []
  },
  {
   "cell_type": "code",
   "execution_count": 80,
   "metadata": {},
   "outputs": [
    {
     "data": {
      "text/html": [
       "<table class=\"simpletable\">\n",
       "<caption>SARIMAX Results</caption>\n",
       "<tr>\n",
       "  <th>Dep. Variable:</th>   <td>standard_price_mean</td> <th>  No. Observations:  </th>    <td>68</td>   \n",
       "</tr>\n",
       "<tr>\n",
       "  <th>Model:</th>             <td>ARIMA(1, 0, 0)</td>    <th>  Log Likelihood     </th> <td>-289.800</td>\n",
       "</tr>\n",
       "<tr>\n",
       "  <th>Date:</th>             <td>Fri, 10 Sep 2021</td>   <th>  AIC                </th>  <td>583.600</td>\n",
       "</tr>\n",
       "<tr>\n",
       "  <th>Time:</th>                 <td>08:31:21</td>       <th>  BIC                </th>  <td>588.039</td>\n",
       "</tr>\n",
       "<tr>\n",
       "  <th>Sample:</th>              <td>01-01-2016</td>      <th>  HQIC               </th>  <td>585.359</td>\n",
       "</tr>\n",
       "<tr>\n",
       "  <th></th>                    <td>- 08-01-2021</td>     <th>                     </th>     <td> </td>   \n",
       "</tr>\n",
       "<tr>\n",
       "  <th>Covariance Type:</th>         <td>opg</td>         <th>                     </th>     <td> </td>   \n",
       "</tr>\n",
       "</table>\n",
       "<table class=\"simpletable\">\n",
       "<tr>\n",
       "        <td></td>           <th>coef</th>     <th>std err</th>      <th>z</th>      <th>P>|z|</th>  <th>[0.025</th>    <th>0.975]</th>  \n",
       "</tr>\n",
       "<tr>\n",
       "  <th>const</th>         <td>   90.6962</td> <td>   40.571</td> <td>    2.235</td> <td> 0.025</td> <td>   11.178</td> <td>  170.214</td>\n",
       "</tr>\n",
       "<tr>\n",
       "  <th>ar.L1 (fixed)</th> <td>    0.9500</td> <td>      nan</td> <td>      nan</td> <td>   nan</td> <td>      nan</td> <td>      nan</td>\n",
       "</tr>\n",
       "<tr>\n",
       "  <th>sigma2</th>        <td>  284.6517</td> <td>   31.631</td> <td>    8.999</td> <td> 0.000</td> <td>  222.656</td> <td>  346.648</td>\n",
       "</tr>\n",
       "</table>\n",
       "<table class=\"simpletable\">\n",
       "<tr>\n",
       "  <th>Ljung-Box (L1) (Q):</th>     <td>1.03</td> <th>  Jarque-Bera (JB):  </th> <td>22.37</td>\n",
       "</tr>\n",
       "<tr>\n",
       "  <th>Prob(Q):</th>                <td>0.31</td> <th>  Prob(JB):          </th> <td>0.00</td> \n",
       "</tr>\n",
       "<tr>\n",
       "  <th>Heteroskedasticity (H):</th> <td>6.58</td> <th>  Skew:              </th> <td>0.17</td> \n",
       "</tr>\n",
       "<tr>\n",
       "  <th>Prob(H) (two-sided):</th>    <td>0.00</td> <th>  Kurtosis:          </th> <td>5.79</td> \n",
       "</tr>\n",
       "</table><br/><br/>Warnings:<br/>[1] Covariance matrix calculated using the outer product of gradients (complex-step)."
      ],
      "text/plain": [
       "<class 'statsmodels.iolib.summary.Summary'>\n",
       "\"\"\"\n",
       "                                SARIMAX Results                                \n",
       "===============================================================================\n",
       "Dep. Variable:     standard_price_mean   No. Observations:                   68\n",
       "Model:                  ARIMA(1, 0, 0)   Log Likelihood                -289.800\n",
       "Date:                 Fri, 10 Sep 2021   AIC                            583.600\n",
       "Time:                         08:31:21   BIC                            588.039\n",
       "Sample:                     01-01-2016   HQIC                           585.359\n",
       "                          - 08-01-2021                                         \n",
       "Covariance Type:                   opg                                         \n",
       "=================================================================================\n",
       "                    coef    std err          z      P>|z|      [0.025      0.975]\n",
       "---------------------------------------------------------------------------------\n",
       "const            90.6962     40.571      2.235      0.025      11.178     170.214\n",
       "ar.L1 (fixed)     0.9500        nan        nan        nan         nan         nan\n",
       "sigma2          284.6517     31.631      8.999      0.000     222.656     346.648\n",
       "===================================================================================\n",
       "Ljung-Box (L1) (Q):                   1.03   Jarque-Bera (JB):                22.37\n",
       "Prob(Q):                              0.31   Prob(JB):                         0.00\n",
       "Heteroskedasticity (H):               6.58   Skew:                             0.17\n",
       "Prob(H) (two-sided):                  0.00   Kurtosis:                         5.79\n",
       "===================================================================================\n",
       "\n",
       "Warnings:\n",
       "[1] Covariance matrix calculated using the outer product of gradients (complex-step).\n",
       "\"\"\""
      ]
     },
     "execution_count": 80,
     "metadata": {},
     "output_type": "execute_result"
    }
   ],
   "source": []
  },
  {
   "cell_type": "code",
   "execution_count": 81,
   "metadata": {},
   "outputs": [],
   "source": [
    "pred_start=test.index[0]\n",
    "pred_end=test.index[-1]\n",
    "preds=model_fit.predict(start=pd.to_datetime('2020-09-01'), end=pd.to_datetime('2023-09-01'))\n",
    "#residuals = test - preds"
   ]
  },
  {
   "cell_type": "code",
   "execution_count": 82,
   "metadata": {},
   "outputs": [
    {
     "data": {
      "text/plain": [
       "[<matplotlib.lines.Line2D at 0x1d1b2bddf40>]"
      ]
     },
     "execution_count": 82,
     "metadata": {},
     "output_type": "execute_result"
    },
    {
     "data": {
      "image/png": "[encoded data removed]",
      "text/plain": [
       "<Figure size 432x288 with 1 Axes>"
      ]
     },
     "metadata": {
      "needs_background": "light"
     },
     "output_type": "display_data"
    }
   ],
   "source": [
    "plt.plot(preds)"
   ]
  },
  {
   "cell_type": "code",
   "execution_count": null,
   "metadata": {},
   "outputs": [],
   "source": []
  }
 ],
 "metadata": {
  "kernelspec": {
   "display_name": "Python 3",
   "language": "python",
   "name": "python3"
  },
  "language_info": {
   "codemirror_mode": {
    "name": "ipython",
    "version": 3
   },
   "file_extension": ".py",
   "mimetype": "text/x-python",
   "name": "python",
   "nbconvert_exporter": "python",
   "pygments_lexer": "ipython3",
   "version": "3.8.1"
  }
 },
 "nbformat": 4,
 "nbformat_minor": 4
}
