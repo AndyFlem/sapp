{
 "cells": [
  {
   "cell_type": "code",
   "execution_count": 1,
   "id": "03a19dfe-9aea-4137-94f1-3a3a07a1117b",
   "metadata": {},
   "outputs": [],
   "source": [
    "import numpy as np\n",
    "import pandas as pd\n",
    "import datetime\n",
    "import math\n",
    "from os import listdir\n",
    "from os.path import isfile, join\n",
    "import json"
   ]
  },
  {
   "cell_type": "code",
   "execution_count": 5,
   "id": "824ad1fc-1133-4049-9f5d-5bfd491b9e50",
   "metadata": {},
   "outputs": [],
   "source": [
    "out='../output/' \n",
    "inp='../input/' \n",
    "market='dam'"
   ]
  },
  {
   "cell_type": "code",
   "execution_count": null,
   "id": "9f2e8683-6e3f-47b6-b26c-f69915c1d813",
   "metadata": {},
   "outputs": [],
   "source": []
  },
  {
   "cell_type": "code",
   "execution_count": null,
   "id": "b869dc3b-c7d3-4546-8b93-5e5f2b0a226a",
   "metadata": {},
   "outputs": [],
   "source": []
  }
 ],
 "metadata": {
  "kernelspec": {
   "display_name": "Python 3 (ipykernel)",
   "language": "python",
   "name": "python3"
  },
  "language_info": {
   "codemirror_mode": {
    "name": "ipython",
    "version": 3
   },
   "file_extension": ".py",
   "mimetype": "text/x-python",
   "name": "python",
   "nbconvert_exporter": "python",
   "pygments_lexer": "ipython3",
   "version": "3.10.5"
  }
 },
 "nbformat": 4,
 "nbformat_minor": 5
}
