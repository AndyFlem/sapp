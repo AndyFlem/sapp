{
 "cells": [
  {
   "cell_type": "code",
   "execution_count": 1,
   "metadata": {},
   "outputs": [],
   "source": [
    "import datetime\n",
    "from os import listdir\n",
    "from os.path import isfile, join\n",
    "import json\n",
    "import pandas as pd"
   ]
  },
  {
   "cell_type": "code",
   "execution_count": 2,
   "metadata": {},
   "outputs": [],
   "source": [
    "\n",
    "inp='../input/monthly/'\n",
    "pref='dam'"
   ]
  },
  {
   "cell_type": "code",
   "execution_count": 3,
   "metadata": {},
   "outputs": [
    {
     "ename": "NameError",
     "evalue": "name 'dat' is not defined",
     "output_type": "error",
     "traceback": [
      "\u001b[1;31m---------------------------------------------------------------------------\u001b[0m",
      "\u001b[1;31mNameError\u001b[0m                                 Traceback (most recent call last)",
      "Cell \u001b[1;32mIn[3], line 4\u001b[0m\n\u001b[0;32m      2\u001b[0m \u001b[38;5;28;01mfor\u001b[39;00m f \u001b[38;5;129;01min\u001b[39;00m onlyfiles:\n\u001b[0;32m      3\u001b[0m     \u001b[38;5;28;01mif\u001b[39;00m (f\u001b[38;5;241m.\u001b[39msplit(\u001b[38;5;124m'\u001b[39m\u001b[38;5;124m_\u001b[39m\u001b[38;5;124m'\u001b[39m)[\u001b[38;5;241m0\u001b[39m]\u001b[38;5;241m==\u001b[39mpref \u001b[38;5;129;01mand\u001b[39;00m f\u001b[38;5;241m.\u001b[39msplit(\u001b[38;5;124m'\u001b[39m\u001b[38;5;124m.\u001b[39m\u001b[38;5;124m'\u001b[39m)[\u001b[38;5;241m1\u001b[39m]\u001b[38;5;241m==\u001b[39m\u001b[38;5;124m'\u001b[39m\u001b[38;5;124mjson\u001b[39m\u001b[38;5;124m'\u001b[39m):\n\u001b[1;32m----> 4\u001b[0m         dat\u001b[38;5;241m=\u001b[39m\u001b[43mdat\u001b[49m\u001b[38;5;241m.\u001b[39mdrop([\u001b[38;5;124m'\u001b[39m\u001b[38;5;124mdatehour\u001b[39m\u001b[38;5;124m'\u001b[39m],\u001b[38;5;241m1\u001b[39m)\n\u001b[0;32m      5\u001b[0m         \u001b[38;5;28;01mwith\u001b[39;00m \u001b[38;5;28mopen\u001b[39m(join(inp, f), \u001b[38;5;124m\"\u001b[39m\u001b[38;5;124mr\u001b[39m\u001b[38;5;124m\"\u001b[39m) \u001b[38;5;28;01mas\u001b[39;00m read_file:\n\u001b[0;32m      6\u001b[0m             dat \u001b[38;5;241m=\u001b[39m pd\u001b[38;5;241m.\u001b[39mDataFrame(json\u001b[38;5;241m.\u001b[39mload(read_file))\n",
      "\u001b[1;31mNameError\u001b[0m: name 'dat' is not defined"
     ]
    }
   ],
   "source": [
    "onlyfiles = [f for f in listdir(inp) if isfile(join(inp, f))]\n",
    "for f in onlyfiles:\n",
    "\n",
    "    if (f.split('_')[0]==pref and f.split('.')[1]=='json'):\n",
    "        print(f.split('.'))\n",
    "        with open(join(inp, f), \"r\") as read_file:\n",
    "            dat = pd.DataFrame(json.load(read_file))\n",
    "\n",
    "            dat.drop(dat[dat[0] == 'Date:Time'].index, inplace = True)\n",
    "            dat.drop(dat[dat[0] == 'Min'].index, inplace = True)\n",
    "            dat.drop(dat[dat[0] == 'Max'].index, inplace = True)\n",
    "            dat.drop(dat[dat[0] == 'Average'].index, inplace = True)\n",
    "            dat.drop(dat[dat[0] == 'Total'].index, inplace = True)\n",
    "            dat.columns=['datehour','price','volume']\n",
    "            dat['price']=dat['price'].astype(float)\n",
    "            dat['volume']=dat['volume'].astype(float)\n",
    "\n",
    "            dat['date']=pd.to_datetime(dat.datehour.str.slice(1,11),format=\"%Y/%m/%d\")\n",
    "            dat['hour']=dat.datehour.str.slice(13,15).astype(int)\n",
    "\n",
    "            dat=dat.drop(['datehour'],1)\n",
    "            \n",
    "            dat.to_csv(inp+f.split('.')[0]+'.csv')"
   ]
  },
  {
   "cell_type": "code",
   "execution_count": null,
   "metadata": {},
   "outputs": [],
   "source": []
  }
 ],
 "metadata": {
  "kernelspec": {
   "display_name": "Python 3",
   "language": "python",
   "name": "python3"
  },
  "language_info": {
   "codemirror_mode": {
    "name": "ipython",
    "version": 3
   },
   "file_extension": ".py",
   "mimetype": "text/x-python",
   "name": "python",
   "nbconvert_exporter": "python",
   "pygments_lexer": "ipython3",
   "version": "3.12.4"
  }
 },
 "nbformat": 4,
 "nbformat_minor": 2
}
